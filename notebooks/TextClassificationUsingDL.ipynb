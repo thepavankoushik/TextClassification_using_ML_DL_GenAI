{
  "nbformat": 4,
  "nbformat_minor": 0,
  "metadata": {
    "colab": {
      "provenance": []
    },
    "kernelspec": {
      "name": "python3",
      "display_name": "Python 3"
    },
    "language_info": {
      "name": "python"
    }
  },
  "cells": [
    {
      "cell_type": "markdown",
      "source": [
        "# Install Dependencies"
      ],
      "metadata": {
        "id": "4JOpnn_OFyAS"
      }
    },
    {
      "cell_type": "code",
      "source": [
        "!pip install gradio"
      ],
      "metadata": {
        "id": "AnNX8rJnFxSb"
      },
      "execution_count": null,
      "outputs": []
    },
    {
      "cell_type": "markdown",
      "source": [
        "# Load Dataset"
      ],
      "metadata": {
        "id": "PyB0DtgTF0VA"
      }
    },
    {
      "cell_type": "code",
      "source": [
        "from sklearn.model_selection import train_test_split\n",
        "import pandas as pd\n",
        "\n",
        "\n",
        "tweets = pd.read_csv('train.csv', sep=',')\n",
        "selected_columns = ['text', 'target']\n",
        "twitter_df = tweets[selected_columns]"
      ],
      "metadata": {
        "id": "8cyl3KceElaG"
      },
      "execution_count": 2,
      "outputs": []
    },
    {
      "cell_type": "code",
      "execution_count": 3,
      "metadata": {
        "id": "BYC6N7KFEQeT"
      },
      "outputs": [],
      "source": [
        "import pandas as pd\n",
        "from sklearn.feature_extraction.text import TfidfVectorizer\n",
        "from sklearn.model_selection import train_test_split\n",
        "from sklearn.linear_model import LogisticRegression\n",
        "from sklearn.naive_bayes import MultinomialNB\n",
        "from sklearn.svm import SVC\n",
        "from sklearn.ensemble import RandomForestClassifier, GradientBoostingClassifier\n",
        "from xgboost import XGBClassifier\n",
        "from sklearn.metrics import accuracy_score, classification_report\n",
        "from keras.models import Sequential\n",
        "from keras.layers import Embedding, LSTM, Conv1D, MaxPooling1D, Dense, GlobalMaxPooling1D\n",
        "from keras.preprocessing.text import Tokenizer"
      ]
    },
    {
      "cell_type": "code",
      "source": [
        "X = twitter_df['text']\n",
        "y = twitter_df['target']\n",
        "\n",
        "X_train, X_val, y_train, y_val = train_test_split(X, y, test_size=0.2, random_state=42)"
      ],
      "metadata": {
        "id": "U9iXib65EjPj"
      },
      "execution_count": 4,
      "outputs": []
    },
    {
      "cell_type": "markdown",
      "source": [
        "# Tokenize Datapoints"
      ],
      "metadata": {
        "id": "2CQCd_WDF27S"
      }
    },
    {
      "cell_type": "code",
      "source": [
        "from keras.preprocessing.text import Tokenizer\n",
        "from tensorflow.keras.preprocessing.sequence import pad_sequences\n",
        "\n",
        "max_words = 5000\n",
        "max_len = 100\n",
        "tokenizer = Tokenizer(num_words=max_words)\n",
        "tokenizer.fit_on_texts(X_train)\n",
        "X_train_seq = tokenizer.texts_to_sequences(X_train)\n",
        "X_val_seq = tokenizer.texts_to_sequences(X_val)\n",
        "X_train_padded = pad_sequences(X_train_seq, maxlen=max_len)\n",
        "X_val_padded = pad_sequences(X_val_seq, maxlen=max_len)"
      ],
      "metadata": {
        "id": "z-uaA3JQEqko"
      },
      "execution_count": 5,
      "outputs": []
    },
    {
      "cell_type": "markdown",
      "source": [
        "# LSTM"
      ],
      "metadata": {
        "id": "7y7I9C2PEs0V"
      }
    },
    {
      "cell_type": "code",
      "source": [
        "lstm_model = Sequential()\n",
        "lstm_model.add(Embedding(max_words, 128, input_length=max_len))\n",
        "lstm_model.add(LSTM(64, dropout=0.2, recurrent_dropout=0.2))\n",
        "lstm_model.add(Dense(1, activation='sigmoid'))\n",
        "lstm_model.compile(loss='binary_crossentropy', optimizer='adam', metrics=['accuracy'])\n",
        "lstm_model.fit(X_train_padded, y_train, validation_data=(X_val_padded, y_val), epochs=5, batch_size=64)"
      ],
      "metadata": {
        "colab": {
          "base_uri": "https://localhost:8080/"
        },
        "id": "NpLUekuQEthx",
        "outputId": "019b4ffe-02af-424f-8114-68bb0678c285"
      },
      "execution_count": 6,
      "outputs": [
        {
          "output_type": "stream",
          "name": "stdout",
          "text": [
            "Epoch 1/5\n",
            "96/96 [==============================] - 28s 252ms/step - loss: 0.5707 - accuracy: 0.7000 - val_loss: 0.4701 - val_accuracy: 0.7807\n",
            "Epoch 2/5\n",
            "96/96 [==============================] - 24s 253ms/step - loss: 0.3607 - accuracy: 0.8470 - val_loss: 0.4521 - val_accuracy: 0.8050\n",
            "Epoch 3/5\n",
            "96/96 [==============================] - 23s 241ms/step - loss: 0.2760 - accuracy: 0.8905 - val_loss: 0.5011 - val_accuracy: 0.7932\n",
            "Epoch 4/5\n",
            "96/96 [==============================] - 23s 236ms/step - loss: 0.2174 - accuracy: 0.9205 - val_loss: 0.5228 - val_accuracy: 0.7846\n",
            "Epoch 5/5\n",
            "96/96 [==============================] - 24s 252ms/step - loss: 0.1872 - accuracy: 0.9322 - val_loss: 0.5939 - val_accuracy: 0.7643\n"
          ]
        },
        {
          "output_type": "execute_result",
          "data": {
            "text/plain": [
              "<keras.src.callbacks.History at 0x7eddba581900>"
            ]
          },
          "metadata": {},
          "execution_count": 6
        }
      ]
    },
    {
      "cell_type": "code",
      "source": [
        "lstm_pred = (lstm_model.predict(X_val_padded) > 0.5).astype(int).flatten()\n",
        "print(\"\\nLSTM Accuracy:\", accuracy_score(y_val, lstm_pred))\n",
        "print(\"\\nLSTM Classification Report:\")\n",
        "print(classification_report(y_val, lstm_pred))"
      ],
      "metadata": {
        "colab": {
          "base_uri": "https://localhost:8080/"
        },
        "id": "E385UF8nEx9N",
        "outputId": "b2e9eeb7-3666-42af-bf56-b44a9c8dd31f"
      },
      "execution_count": 7,
      "outputs": [
        {
          "output_type": "stream",
          "name": "stdout",
          "text": [
            "48/48 [==============================] - 1s 23ms/step\n",
            "\n",
            "LSTM Accuracy: 0.7642810242941562\n",
            "\n",
            "LSTM Classification Report:\n",
            "              precision    recall  f1-score   support\n",
            "\n",
            "           0       0.81      0.77      0.79       874\n",
            "           1       0.71      0.75      0.73       649\n",
            "\n",
            "    accuracy                           0.76      1523\n",
            "   macro avg       0.76      0.76      0.76      1523\n",
            "weighted avg       0.77      0.76      0.77      1523\n",
            "\n"
          ]
        }
      ]
    },
    {
      "cell_type": "markdown",
      "source": [
        "# CNN"
      ],
      "metadata": {
        "id": "zNRvZVE1EvS6"
      }
    },
    {
      "cell_type": "code",
      "source": [
        "cnn_model = Sequential()\n",
        "cnn_model.add(Embedding(max_words, 128, input_length=max_len))\n",
        "cnn_model.add(Conv1D(64, 5, activation='relu'))\n",
        "cnn_model.add(MaxPooling1D(pool_size=4))\n",
        "cnn_model.add(GlobalMaxPooling1D())\n",
        "cnn_model.add(Dense(1, activation='sigmoid'))\n",
        "cnn_model.compile(loss='binary_crossentropy', optimizer='adam', metrics=['accuracy'])\n",
        "cnn_model.fit(X_train_padded, y_train, validation_data=(X_val_padded, y_val), epochs=5, batch_size=64)"
      ],
      "metadata": {
        "colab": {
          "base_uri": "https://localhost:8080/"
        },
        "id": "FjZbFdU1Ev6l",
        "outputId": "01b4f368-33f4-4182-95c3-3e5187cdb484"
      },
      "execution_count": 8,
      "outputs": [
        {
          "output_type": "stream",
          "name": "stdout",
          "text": [
            "Epoch 1/5\n",
            "96/96 [==============================] - 8s 74ms/step - loss: 0.6070 - accuracy: 0.6790 - val_loss: 0.5062 - val_accuracy: 0.7833\n",
            "Epoch 2/5\n",
            "96/96 [==============================] - 6s 58ms/step - loss: 0.3877 - accuracy: 0.8369 - val_loss: 0.4482 - val_accuracy: 0.7919\n",
            "Epoch 3/5\n",
            "96/96 [==============================] - 7s 71ms/step - loss: 0.2654 - accuracy: 0.8966 - val_loss: 0.4836 - val_accuracy: 0.8037\n",
            "Epoch 4/5\n",
            "96/96 [==============================] - 6s 58ms/step - loss: 0.1916 - accuracy: 0.9315 - val_loss: 0.5332 - val_accuracy: 0.7886\n",
            "Epoch 5/5\n",
            "96/96 [==============================] - 7s 71ms/step - loss: 0.1376 - accuracy: 0.9542 - val_loss: 0.6050 - val_accuracy: 0.7807\n"
          ]
        },
        {
          "output_type": "execute_result",
          "data": {
            "text/plain": [
              "<keras.src.callbacks.History at 0x7eddbae9e6e0>"
            ]
          },
          "metadata": {},
          "execution_count": 8
        }
      ]
    },
    {
      "cell_type": "code",
      "source": [
        "cnn_pred = (cnn_model.predict(X_val_padded) > 0.5).astype(int).flatten()\n",
        "print(\"\\nLSTM Accuracy:\", accuracy_score(y_val, cnn_pred))\n",
        "print(\"\\nLSTM Classification Report:\")\n",
        "print(classification_report(y_val, cnn_pred))"
      ],
      "metadata": {
        "colab": {
          "base_uri": "https://localhost:8080/"
        },
        "id": "P3KWUBhVE3QQ",
        "outputId": "dccdd36c-fe59-43a0-e775-ce3f87df9ee8"
      },
      "execution_count": 9,
      "outputs": [
        {
          "output_type": "stream",
          "name": "stdout",
          "text": [
            "48/48 [==============================] - 0s 8ms/step\n",
            "\n",
            "LSTM Accuracy: 0.7806959947472094\n",
            "\n",
            "LSTM Classification Report:\n",
            "              precision    recall  f1-score   support\n",
            "\n",
            "           0       0.80      0.82      0.81       874\n",
            "           1       0.75      0.72      0.74       649\n",
            "\n",
            "    accuracy                           0.78      1523\n",
            "   macro avg       0.78      0.77      0.77      1523\n",
            "weighted avg       0.78      0.78      0.78      1523\n",
            "\n"
          ]
        }
      ]
    },
    {
      "cell_type": "markdown",
      "source": [
        "# GRU"
      ],
      "metadata": {
        "id": "z9yTk9A8E5l4"
      }
    },
    {
      "cell_type": "code",
      "source": [
        "from keras.layers import Embedding, GRU, Bidirectional, Dense, GlobalMaxPooling1D\n",
        "\n",
        "gru_model = Sequential()\n",
        "gru_model.add(Embedding(max_words, 128, input_length=max_len))\n",
        "gru_model.add(GRU(64, dropout=0.2, recurrent_dropout=0.2))\n",
        "gru_model.add(Dense(1, activation='sigmoid'))\n",
        "gru_model.compile(loss='binary_crossentropy', optimizer='adam', metrics=['accuracy'])\n",
        "gru_model.fit(X_train_padded, y_train, validation_data=(X_val_padded, y_val), epochs=5, batch_size=64)"
      ],
      "metadata": {
        "colab": {
          "base_uri": "https://localhost:8080/"
        },
        "id": "hSRsC7q_E7RP",
        "outputId": "e8d16aee-56d3-459e-9c13-57a3287a7914"
      },
      "execution_count": 10,
      "outputs": [
        {
          "output_type": "stream",
          "name": "stdout",
          "text": [
            "Epoch 1/5\n",
            "96/96 [==============================] - 26s 232ms/step - loss: 0.5916 - accuracy: 0.6905 - val_loss: 0.4760 - val_accuracy: 0.7951\n",
            "Epoch 2/5\n",
            "96/96 [==============================] - 21s 215ms/step - loss: 0.3639 - accuracy: 0.8430 - val_loss: 0.4836 - val_accuracy: 0.7735\n",
            "Epoch 3/5\n",
            "96/96 [==============================] - 22s 229ms/step - loss: 0.2798 - accuracy: 0.8857 - val_loss: 0.5310 - val_accuracy: 0.7452\n",
            "Epoch 4/5\n",
            "96/96 [==============================] - 22s 230ms/step - loss: 0.2245 - accuracy: 0.9138 - val_loss: 0.5997 - val_accuracy: 0.7833\n",
            "Epoch 5/5\n",
            "96/96 [==============================] - 21s 216ms/step - loss: 0.1874 - accuracy: 0.9281 - val_loss: 0.6646 - val_accuracy: 0.7590\n"
          ]
        },
        {
          "output_type": "execute_result",
          "data": {
            "text/plain": [
              "<keras.src.callbacks.History at 0x7eddbadff310>"
            ]
          },
          "metadata": {},
          "execution_count": 10
        }
      ]
    },
    {
      "cell_type": "code",
      "source": [
        "gru_pred = (gru_model.predict(X_val_padded) > 0.5).astype(int).flatten()\n",
        "print(\"\\nGRU Accuracy:\", accuracy_score(y_val, gru_pred))\n",
        "print(\"\\nGRU Classification Report:\")\n",
        "print(classification_report(y_val, gru_pred))"
      ],
      "metadata": {
        "colab": {
          "base_uri": "https://localhost:8080/"
        },
        "id": "Zu-h2-HuE987",
        "outputId": "9f398e77-6f1b-4777-8122-e5f901f916b7"
      },
      "execution_count": 11,
      "outputs": [
        {
          "output_type": "stream",
          "name": "stdout",
          "text": [
            "48/48 [==============================] - 1s 20ms/step\n",
            "\n",
            "GRU Accuracy: 0.7590282337491793\n",
            "\n",
            "GRU Classification Report:\n",
            "              precision    recall  f1-score   support\n",
            "\n",
            "           0       0.79      0.79      0.79       874\n",
            "           1       0.72      0.71      0.72       649\n",
            "\n",
            "    accuracy                           0.76      1523\n",
            "   macro avg       0.75      0.75      0.75      1523\n",
            "weighted avg       0.76      0.76      0.76      1523\n",
            "\n"
          ]
        }
      ]
    },
    {
      "cell_type": "markdown",
      "source": [
        "# Bi-Directional RNN"
      ],
      "metadata": {
        "id": "hT7e8JHPFDLB"
      }
    },
    {
      "cell_type": "code",
      "source": [
        "bidir_model = Sequential()\n",
        "bidir_model.add(Embedding(max_words, 128, input_length=max_len))\n",
        "bidir_model.add(Bidirectional(GRU(64, dropout=0.2, recurrent_dropout=0.2)))\n",
        "bidir_model.add(Dense(1, activation='sigmoid'))\n",
        "bidir_model.compile(loss='binary_crossentropy', optimizer='adam', metrics=['accuracy'])\n",
        "bidir_model.fit(X_train_padded, y_train, validation_data=(X_val_padded, y_val), epochs=5 , batch_size=64)"
      ],
      "metadata": {
        "colab": {
          "base_uri": "https://localhost:8080/"
        },
        "id": "Qi7e6fx6FFFM",
        "outputId": "2f430003-946c-4d3e-e01b-19c84febe5d2"
      },
      "execution_count": 12,
      "outputs": [
        {
          "output_type": "stream",
          "name": "stdout",
          "text": [
            "Epoch 1/5\n",
            "96/96 [==============================] - 48s 425ms/step - loss: 0.5790 - accuracy: 0.6916 - val_loss: 0.4591 - val_accuracy: 0.7892\n",
            "Epoch 2/5\n",
            "96/96 [==============================] - 40s 416ms/step - loss: 0.3592 - accuracy: 0.8476 - val_loss: 0.4575 - val_accuracy: 0.8030\n",
            "Epoch 3/5\n",
            "96/96 [==============================] - 40s 417ms/step - loss: 0.2780 - accuracy: 0.8862 - val_loss: 0.5018 - val_accuracy: 0.7925\n",
            "Epoch 4/5\n",
            "96/96 [==============================] - 40s 418ms/step - loss: 0.2213 - accuracy: 0.9130 - val_loss: 0.5715 - val_accuracy: 0.7715\n",
            "Epoch 5/5\n",
            "96/96 [==============================] - 40s 418ms/step - loss: 0.1919 - accuracy: 0.9302 - val_loss: 0.6606 - val_accuracy: 0.7676\n"
          ]
        },
        {
          "output_type": "execute_result",
          "data": {
            "text/plain": [
              "<keras.src.callbacks.History at 0x7eddaaef35e0>"
            ]
          },
          "metadata": {},
          "execution_count": 12
        }
      ]
    },
    {
      "cell_type": "code",
      "source": [
        "bidir_pred = (bidir_model.predict(X_val_padded) > 0.5).astype(int).flatten()\n",
        "print(\"\\nBidirectional RNN Accuracy:\", accuracy_score(y_val, bidir_pred))\n",
        "print(\"\\nBidirectional RNN Classification Report:\")\n",
        "print(classification_report(y_val, bidir_pred))"
      ],
      "metadata": {
        "colab": {
          "base_uri": "https://localhost:8080/"
        },
        "id": "55OBVYxzFK3Z",
        "outputId": "c4cc2945-20d7-45d7-cf76-bdc30ade3fef"
      },
      "execution_count": 13,
      "outputs": [
        {
          "output_type": "stream",
          "name": "stdout",
          "text": [
            "48/48 [==============================] - 2s 34ms/step\n",
            "\n",
            "Bidirectional RNN Accuracy: 0.767564018384767\n",
            "\n",
            "Bidirectional RNN Classification Report:\n",
            "              precision    recall  f1-score   support\n",
            "\n",
            "           0       0.80      0.80      0.80       874\n",
            "           1       0.73      0.72      0.73       649\n",
            "\n",
            "    accuracy                           0.77      1523\n",
            "   macro avg       0.76      0.76      0.76      1523\n",
            "weighted avg       0.77      0.77      0.77      1523\n",
            "\n"
          ]
        }
      ]
    },
    {
      "cell_type": "markdown",
      "source": [
        "# Gradio"
      ],
      "metadata": {
        "id": "OeUID3uDFOEg"
      }
    },
    {
      "cell_type": "code",
      "source": [
        "from keras.preprocessing.sequence import pad_sequences\n",
        "\n",
        "def dl_classify_tweet(tweet, model, tokenizer, max_len=100):\n",
        "    seq = tokenizer.texts_to_sequences([tweet])\n",
        "    padded = pad_sequences(seq, maxlen=max_len)\n",
        "    prediction = model.predict(padded)\n",
        "    class_label = 'Disaster' if prediction[0][0] >= 0.5 else 'Not Disaster'\n",
        "\n",
        "    return class_label"
      ],
      "metadata": {
        "id": "fS4HguqsFOv7"
      },
      "execution_count": 14,
      "outputs": []
    },
    {
      "cell_type": "code",
      "source": [
        "import gradio as gr\n",
        "\n",
        "def predict(model, tweet):\n",
        "    return dl_classify_tweet(tweet, model, tokenizer)\n",
        "\n",
        "\n",
        "def classify_tweet(tweet, expected):\n",
        "    results = {}\n",
        "    justifications = {}\n",
        "\n",
        "    models = {\n",
        "        'LSTM': lstm_model,\n",
        "        'CNN': cnn_model,\n",
        "        'GRU': gru_model,\n",
        "        'Bidirectional RNN': bidir_model,\n",
        "    }\n",
        "    for model_name, model in models.items():\n",
        "        prediction = predict(model, tweet)\n",
        "        match = 'green' if prediction == expected else 'red'\n",
        "        results[model_name] = f\"<div style='color: {match}; border:2px solid {match}; padding:5px; margin:2px;'>{model_name}: {prediction}/{expected}</div>\"\n",
        "\n",
        "    return list(results.values())\n",
        "\n",
        "# Set up the Gradio interface\n",
        "iface = gr.Interface(\n",
        "    fn=classify_tweet,\n",
        "    inputs=[\n",
        "        gr.Textbox(lines=2, placeholder=\"Enter your tweet here...\"),\n",
        "        gr.Radio(choices=[\"Disaster\", \"Not Disaster\"], label=\"Expected Classification\")\n",
        "    ],\n",
        "    outputs=[\n",
        "        gr.HTML(label=model_name) for model_name in [\n",
        "            'LSTM', 'CNN', 'GRU', 'Bidirectional RNN'\n",
        "        ]\n",
        "\n",
        "    ]\n",
        ")\n",
        "\n",
        "# Run the Gradio app\n",
        "iface.launch()\n"
      ],
      "metadata": {
        "colab": {
          "base_uri": "https://localhost:8080/",
          "height": 626
        },
        "id": "Oln-FiYaFYoH",
        "outputId": "ee020be4-ea7a-482f-aa46-275964950b4b"
      },
      "execution_count": 15,
      "outputs": [
        {
          "output_type": "stream",
          "name": "stdout",
          "text": [
            "Setting queue=True in a Colab notebook requires sharing enabled. Setting `share=True` (you can turn this off by setting `share=False` in `launch()` explicitly).\n",
            "\n",
            "Colab notebook detected. To show errors in colab notebook, set debug=True in launch()\n",
            "Running on public URL: https://f285d8f8982463d6af.gradio.live\n",
            "\n",
            "This share link expires in 72 hours. For free permanent hosting and GPU upgrades, run `gradio deploy` from Terminal to deploy to Spaces (https://huggingface.co/spaces)\n"
          ]
        },
        {
          "output_type": "display_data",
          "data": {
            "text/plain": [
              "<IPython.core.display.HTML object>"
            ],
            "text/html": [
              "<div><iframe src=\"https://f285d8f8982463d6af.gradio.live\" width=\"100%\" height=\"500\" allow=\"autoplay; camera; microphone; clipboard-read; clipboard-write;\" frameborder=\"0\" allowfullscreen></iframe></div>"
            ]
          },
          "metadata": {}
        },
        {
          "output_type": "execute_result",
          "data": {
            "text/plain": []
          },
          "metadata": {},
          "execution_count": 15
        }
      ]
    },
    {
      "cell_type": "code",
      "source": [],
      "metadata": {
        "id": "ekKH3HGlF76D"
      },
      "execution_count": 15,
      "outputs": []
    }
  ]
}